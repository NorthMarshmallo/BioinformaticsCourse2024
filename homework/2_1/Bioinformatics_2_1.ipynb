{
  "nbformat": 4,
  "nbformat_minor": 0,
  "metadata": {
    "colab": {
      "provenance": []
    },
    "kernelspec": {
      "name": "python3",
      "display_name": "Python 3"
    },
    "language_info": {
      "name": "python"
    }
  },
  "cells": [
    {
      "cell_type": "markdown",
      "source": [
        "## Домашнее задание по первой лекции второго модуля.\n",
        "### Практическая часть\n",
        "**1. Симуляция секвенирования** (3 балла)  \n",
        "Первое задание заключается в том, чтобы написать\n",
        "симуляцию секвенирования ридов при помощи illumina.\n",
        "Для этого необходимо сгенерировать случайно строку\n",
        "длинной 50 000 символов, над алфавитом {A, T, G, C}.\n",
        "После этого случайно выбирать подстроки, длинна\n",
        "которых распределена нормально со средним 250 и\n",
        "среднеквадратическим отклонением 30, каждую такую\n",
        "подстроку \"секвенировать\".  \n",
        "Под словом \"секвенировать\" в данном случае имеется\n",
        "ввиду симуляция того процесса, который мы обсуждали\n",
        "на лекции. Вы считываете очередной символ подстроки,\n",
        "например, 100 раз, но в N случаях из 100 ошибаетесь\n",
        "и считываете любой нуклеотид, кроме правильного с\n",
        "одинаковой вероятностью. N принадлежит равномерному\n",
        "распределению от 0 до 75. По получившемуся набору\n",
        "вычисляете наибоее вероятный нуклеотид (тот, которого\n",
        "больше всего) и его качество прочтения, чтобы\n",
        "записать его в формате FASTQ.  \n",
        "При симуляции важно запоминать ID рида и для каждого\n",
        "ID позиции, в которых нуклеотид был считан неверно и\n",
        "какой должен быть на самом деле (для этого просто\n",
        "можно хранить 2 числа и помнить что у вас есть\n",
        "исходная строка, откуда берутся риды). Это\n",
        "понадобится для выполнения следующих заданий.  \n",
        "Всего ридов пусть будет 50К."
      ],
      "metadata": {
        "id": "358mQWcE2ZO3"
      }
    },
    {
      "cell_type": "code",
      "source": [
        "import numpy as np"
      ],
      "metadata": {
        "id": "g6fzWdyE3EME"
      },
      "execution_count": 2,
      "outputs": []
    },
    {
      "cell_type": "code",
      "execution_count": 97,
      "metadata": {
        "colab": {
          "base_uri": "https://localhost:8080/"
        },
        "id": "nK00WO5j2Yls",
        "outputId": "fe995d86-6cd3-447b-e3c9-9adb32fac9ab"
      },
      "outputs": [
        {
          "output_type": "stream",
          "name": "stdout",
          "text": [
            "0\n",
            "5000\n",
            "10000\n",
            "15000\n",
            "20000\n",
            "25000\n",
            "30000\n",
            "35000\n",
            "40000\n",
            "45000\n"
          ]
        }
      ],
      "source": [
        "np.random.seed(0)\n",
        "nucls = list('ATGC')\n",
        "\n",
        "sequence = ''.join(np.random.choice(nucls, 50000))\n",
        "simulation = dict()\n",
        "\n",
        "for i, read_len in enumerate(np.random.normal(250, 30, 50000).astype(int)):\n",
        "    read_id = np.random.randint(0, 50000 - read_len)\n",
        "    read = list(sequence[read_id:read_id+read_len])\n",
        "    mistakes_ids = []\n",
        "    mistakes_ascii = []\n",
        "\n",
        "    for nuc_ind, nuc in enumerate(read):\n",
        "        n = np.random.randint(0, 75)\n",
        "        mistakes = np.random.choice([x for x in nucls if x != nuc], n)\n",
        "        vals, counts = np.unique(mistakes, return_counts=True)\n",
        "        if n == 0:\n",
        "            Q = 30\n",
        "            mistakes_ascii.append(chr(Q + 33))\n",
        "            continue\n",
        "        max_wrong_ind = np.argmax(counts)\n",
        "        if counts[max_wrong_ind] > 100 - n:\n",
        "            read[nuc_ind] = vals[max_wrong_ind]\n",
        "            Q = int(-10 * np.log10((100 - counts[max_wrong_ind]) / 100))\n",
        "            mistakes_ids.append(nuc_ind)\n",
        "        else:\n",
        "            Q = int(-10 * np.log10(n / 100))\n",
        "        mistakes_ascii.append(chr(Q + 33))\n",
        "    if i % 5000 == 0:\n",
        "        print(i)\n",
        "    simulation[i] = [read_id, ''.join(read), mistakes_ids, ''.join(mistakes_ascii)]"
      ]
    },
    {
      "cell_type": "code",
      "source": [
        "with open('reads.fasta', 'w') as file:\n",
        "    for i, read_data in simulation.items():\n",
        "        read_id, read, mistakes_ids, mistakes_ascii = read_data\n",
        "        file.write(f'@SEQ_{i}_{read_id}\\n')\n",
        "        file.write(f'{read}\\n')\n",
        "        file.write('+\\n')\n",
        "        file.write(f'{mistakes_ascii}\\n')\n",
        "\n",
        "with open(\"sequense.fasta\", \"w\") as file:\n",
        "    file.write('@INITIAL_SEQ\\n')\n",
        "    file.write(sequence)"
      ],
      "metadata": {
        "id": "nE69Z_bEJPhE"
      },
      "execution_count": 98,
      "outputs": []
    },
    {
      "cell_type": "markdown",
      "source": [
        "**2. Удаление ошибок (Trimmomatic)** (2 балла)\n",
        "Получившиеся риды обработайте Trimmomatic со\n",
        "стандартными параметрами с лекции. Пользуясь тем, что\n",
        "вы знаете, для каждого рида ground truth, посчитайте,\n",
        "в скольких случаях Trimmomatic удалил нуклеотиды,\n",
        "которые были считаны верно, а в скольких действительно\n",
        "удалил ошибочные."
      ],
      "metadata": {
        "id": "UrCYLZiD2j1M"
      }
    },
    {
      "cell_type": "code",
      "source": [
        "! wget https://repo.anaconda.com/miniconda/Miniconda3-py37_4.8.2-Linux-x86_64.sh\n",
        "! chmod +x Miniconda3-py37_4.8.2-Linux-x86_64.sh\n",
        "! bash ./Miniconda3-py37_4.8.2-Linux-x86_64.sh -b -f -p /usr/local\n",
        "import sys\n",
        "sys.path.append('/usr/local/lib/python3.7/site-packages/')"
      ],
      "metadata": {
        "collapsed": true,
        "id": "9738CjMiKSHq"
      },
      "execution_count": null,
      "outputs": []
    },
    {
      "cell_type": "code",
      "source": [
        "!conda install -c bioconda fastqc -y\n",
        "!pip install multiqc\n",
        "! conda install -c bioconda trimmomatic -y"
      ],
      "metadata": {
        "collapsed": true,
        "id": "aKKUIMN5K5kJ"
      },
      "execution_count": null,
      "outputs": []
    },
    {
      "cell_type": "code",
      "source": [
        "! trimmomatic SE -phred33 reads.fasta reads_trimmed.fasta ILLUMINACLIP:TruSeq3-SE:2:30:10 SLIDINGWINDOW:8:2 LEADING:3 TRAILING:3 MINLEN:36"
      ],
      "metadata": {
        "colab": {
          "base_uri": "https://localhost:8080/"
        },
        "id": "bdbgRd18LX7V",
        "outputId": "30a1c867-56cc-4638-dfd4-d4207179bedf"
      },
      "execution_count": 140,
      "outputs": [
        {
          "output_type": "stream",
          "name": "stdout",
          "text": [
            "TrimmomaticSE: Started with arguments:\n",
            " -phred33 reads.fasta reads_trimmed.fasta ILLUMINACLIP:TruSeq3-SE:2:30:10 SLIDINGWINDOW:8:2 LEADING:3 TRAILING:3 MINLEN:36\n",
            "Automatically using 2 threads\n",
            "java.io.FileNotFoundException: /content/TruSeq3-SE (No such file or directory)\n",
            "\tat java.io.FileInputStream.open0(Native Method)\n",
            "\tat java.io.FileInputStream.open(FileInputStream.java:195)\n",
            "\tat java.io.FileInputStream.<init>(FileInputStream.java:138)\n",
            "\tat org.usadellab.trimmomatic.fasta.FastaParser.parse(FastaParser.java:54)\n",
            "\tat org.usadellab.trimmomatic.trim.IlluminaClippingTrimmer.loadSequences(IlluminaClippingTrimmer.java:110)\n",
            "\tat org.usadellab.trimmomatic.trim.IlluminaClippingTrimmer.makeIlluminaClippingTrimmer(IlluminaClippingTrimmer.java:71)\n",
            "\tat org.usadellab.trimmomatic.trim.TrimmerFactory.makeTrimmer(TrimmerFactory.java:32)\n",
            "\tat org.usadellab.trimmomatic.Trimmomatic.createTrimmers(Trimmomatic.java:59)\n",
            "\tat org.usadellab.trimmomatic.TrimmomaticSE.run(TrimmomaticSE.java:318)\n",
            "\tat org.usadellab.trimmomatic.Trimmomatic.main(Trimmomatic.java:85)\n",
            "Input Reads: 50000 Surviving: 48458 (96.92%) Dropped: 1542 (3.08%)\n",
            "TrimmomaticSE: Completed successfully\n"
          ]
        }
      ]
    },
    {
      "cell_type": "code",
      "source": [
        "inds = []\n",
        "reads = []\n",
        "with open('reads_trimmed.fasta', 'r') as file:\n",
        "    while True:\n",
        "        try:\n",
        "            x = file.readline()\n",
        "            inds.append(int(x.split('_')[1]))\n",
        "            reads.append(file.readline())\n",
        "            file.readline()\n",
        "            file.readline()\n",
        "        except:\n",
        "            break\n",
        "print(len(reads))"
      ],
      "metadata": {
        "colab": {
          "base_uri": "https://localhost:8080/"
        },
        "id": "xPuAUAmgZBD4",
        "outputId": "d2d79190-173b-44c2-c787-c1284ca0a840"
      },
      "execution_count": 141,
      "outputs": [
        {
          "output_type": "stream",
          "name": "stdout",
          "text": [
            "48458\n"
          ]
        }
      ]
    },
    {
      "cell_type": "code",
      "source": [
        "right_del = 0\n",
        "wrong_del = 0\n",
        "\n",
        "for ind_read_trim, read_trim in zip(inds, reads):\n",
        "    read = simulation[ind_read_trim][1]\n",
        "    mistakes = simulation[ind_read_trim][2]\n",
        "    for i, nuc in enumerate(read_trim):\n",
        "        if i < len(read) and nuc != read[i]:\n",
        "            if i in mistakes:\n",
        "                right_del += 1\n",
        "            else:\n",
        "                wrong_del += 1\n",
        "\n",
        "print(right_del, wrong_del)"
      ],
      "metadata": {
        "colab": {
          "base_uri": "https://localhost:8080/"
        },
        "id": "nVVmhSQPcGdI",
        "outputId": "9193c11a-f107-468d-c5b6-cbb91cb1585c"
      },
      "execution_count": 142,
      "outputs": [
        {
          "output_type": "stream",
          "name": "stdout",
          "text": [
            "81198 2575358\n"
          ]
        }
      ]
    },
    {
      "cell_type": "markdown",
      "source": [
        "\n",
        "**3. Коррекция ошибок** (4 балла)\n",
        "Получившиеся риды обработайте одним(любым) из инструментов, которые\n",
        "использованы и проанализированны в\n",
        "[этой статье](https://genomebiology.biomedcentral.com/articles/10.1186/s13059-020-01988-3).\n",
        "Посчитайте TP, FP, TN, FN.\n",
        "\n"
      ],
      "metadata": {
        "id": "M743CYar2mZm"
      }
    },
    {
      "cell_type": "code",
      "source": [
        "! conda install -y lighter --channel bioconda"
      ],
      "metadata": {
        "colab": {
          "base_uri": "https://localhost:8080/"
        },
        "id": "wPr36Z6Rh3Bh",
        "outputId": "b0d3ba51-0e0f-4475-a861-bfbe507177a1"
      },
      "execution_count": 104,
      "outputs": [
        {
          "output_type": "stream",
          "name": "stdout",
          "text": [
            "Collecting package metadata (current_repodata.json): - \b\b\\ \b\b| \b\b/ \b\b- \b\b\\ \b\b| \b\b/ \b\b- \b\b\\ \b\b| \b\b/ \b\b- \b\b\\ \b\b| \b\b/ \b\b- \b\b\\ \b\b| \b\b/ \b\b- \b\b\\ \b\b| \b\b/ \b\b- \b\b\\ \b\b| \b\b/ \b\b- \b\b\\ \b\b| \b\b/ \b\b- \b\b\\ \b\b| \b\b/ \b\b- \b\b\\ \b\b| \b\b/ \b\b- \b\bdone\n",
            "Solving environment: | \b\b/ \b\b- \b\b\\ \b\b| \b\b/ \b\b- \b\b\\ \b\b| \b\b/ \b\b- \b\b\\ \b\b| \b\b/ \b\b- \b\b\\ \b\b| \b\b/ \b\b- \b\b\\ \b\b| \b\b/ \b\b- \b\b\\ \b\b| \b\b/ \b\b- \b\b\\ \b\b| \b\b/ \b\b- \b\b\\ \b\b| \b\b/ \n",
            "The environment is inconsistent, please check the package plan carefully\n",
            "The following packages are causing the inconsistency:\n",
            "\n",
            "  - defaults/linux-64::libgfortran-ng==7.5.0=ha8ba4b0_17\n",
            "  - defaults/linux-64::hdf5==1.10.2=hba1933b_1\n",
            "  - bioconda/linux-64::kallisto==0.44.0=h7d86c95_2\n",
            "\b\b- \b\b\\ \b\b| \b\b/ \b\b- \b\b\\ \b\b| \b\b/ \b\b- \b\b\\ \b\b| \b\b/ \b\b- \b\b\\ \b\b| \b\b/ \b\bfailed with initial frozen solve. Retrying with flexible solve.\n",
            "Solving environment: \\ \b\b| \b\b/ \b\b- \b\b\\ \b\b| \b\b/ \b\b- \b\b\\ \b\b| \b\b/ \b\b- \b\b\\ \b\b| \b\b/ \b\b- \b\b\\ \b\b| \b\b/ \b\b- \b\b\\ \b\b| \b\b/ \b\b- \b\b\\ \b\b| \b\b/ \b\b- \b\b\\ \b\b| \b\b/ \b\b- \b\bfailed with repodata from current_repodata.json, will retry with next repodata source.\n",
            "Collecting package metadata (repodata.json): | \b\b/ \b\b- \b\b\\ \b\b| \b\b/ \b\b- \b\b\\ \b\b| \b\b/ \b\b- \b\b\\ \b\b| \b\b/ \b\b- \b\b\\ \b\b| \b\b/ \b\b- \b\b\\ \b\b| \b\b/ \b\b- \b\b\\ \b\b| \b\b/ \b\b- \b\b\\ \b\b| \b\b/ \b\b- \b\b\\ \b\b| \b\b/ \b\b- \b\b\\ \b\b| \b\b/ \b\b- \b\b\\ \b\b| \b\b/ \b\b- \b\b\\ \b\b| \b\b/ \b\b- \b\b\\ \b\b| \b\b/ \b\b- \b\b\\ \b\b| \b\b/ \b\b- \b\b\\ \b\b| \b\b/ \b\b- \b\b\\ \b\b| \b\b/ \b\b- \b\b\\ \b\b| \b\b/ \b\b- \b\b\\ \b\b| \b\b/ \b\b- \b\b\\ \b\b| \b\b/ \b\b- \b\b\\ \b\b| \b\bdone\n",
            "Solving environment: - \b\b\\ \b\b| \b\b/ \b\b- \b\b\\ \b\b| \b\b/ \b\b- \b\b\\ \b\b| \b\b/ \n",
            "The environment is inconsistent, please check the package plan carefully\n",
            "The following packages are causing the inconsistency:\n",
            "\n",
            "  - defaults/linux-64::libgfortran-ng==7.5.0=ha8ba4b0_17\n",
            "  - defaults/linux-64::hdf5==1.10.2=hba1933b_1\n",
            "  - bioconda/linux-64::kallisto==0.44.0=h7d86c95_2\n",
            "\b\b- \b\b\\ \b\b| \b\b/ \b\b- \b\b\\ \b\b| \b\b/ \b\b- \b\b\\ \b\b| \b\b/ \b\b- \b\b\\ \b\b| \b\b/ \b\b- \b\b\\ \b\b| \b\bdone\n",
            "\n",
            "## Package Plan ##\n",
            "\n",
            "  environment location: /usr/local\n",
            "\n",
            "  added / updated specs:\n",
            "    - lighter\n",
            "\n",
            "\n",
            "The following packages will be downloaded:\n",
            "\n",
            "    package                    |            build\n",
            "    ---------------------------|-----------------\n",
            "    certifi-2022.12.7          |   py37h06a4308_0         150 KB\n",
            "    conda-23.1.0               |   py37h06a4308_0         937 KB\n",
            "    flit-core-3.6.0            |     pyhd3eb1b0_0          42 KB\n",
            "    importlib-metadata-4.11.3  |   py37h06a4308_0          40 KB\n",
            "    importlib_metadata-4.11.3  |       hd3eb1b0_0          12 KB\n",
            "    lighter-1.1.2              |       he513fc3_2          56 KB  bioconda\n",
            "    pluggy-1.0.0               |   py37h06a4308_1          29 KB\n",
            "    ruamel.yaml-0.16.12        |   py37h7b6447c_1         173 KB\n",
            "    ruamel.yaml.clib-0.2.6     |   py37h7f8727e_0         133 KB\n",
            "    toolz-0.12.0               |   py37h06a4308_0         104 KB\n",
            "    typing_extensions-4.4.0    |   py37h06a4308_0          45 KB\n",
            "    zipp-3.11.0                |   py37h06a4308_0          19 KB\n",
            "    ------------------------------------------------------------\n",
            "                                           Total:         1.7 MB\n",
            "\n",
            "The following NEW packages will be INSTALLED:\n",
            "\n",
            "  flit-core          pkgs/main/noarch::flit-core-3.6.0-pyhd3eb1b0_0\n",
            "  importlib-metadata pkgs/main/linux-64::importlib-metadata-4.11.3-py37h06a4308_0\n",
            "  importlib_metadata pkgs/main/noarch::importlib_metadata-4.11.3-hd3eb1b0_0\n",
            "  lighter            bioconda/linux-64::lighter-1.1.2-he513fc3_2\n",
            "  pluggy             pkgs/main/linux-64::pluggy-1.0.0-py37h06a4308_1\n",
            "  ruamel.yaml        pkgs/main/linux-64::ruamel.yaml-0.16.12-py37h7b6447c_1\n",
            "  ruamel.yaml.clib   pkgs/main/linux-64::ruamel.yaml.clib-0.2.6-py37h7f8727e_0\n",
            "  toolz              pkgs/main/linux-64::toolz-0.12.0-py37h06a4308_0\n",
            "  typing_extensions  pkgs/main/linux-64::typing_extensions-4.4.0-py37h06a4308_0\n",
            "  zipp               pkgs/main/linux-64::zipp-3.11.0-py37h06a4308_0\n",
            "\n",
            "The following packages will be UPDATED:\n",
            "\n",
            "  certifi            pkgs/main/noarch::certifi-2020.6.20-p~ --> pkgs/main/linux-64::certifi-2022.12.7-py37h06a4308_0\n",
            "  conda                                        4.8.2-py37_0 --> 23.1.0-py37h06a4308_0\n",
            "\n",
            "\n",
            "\n",
            "Downloading and Extracting Packages\n",
            "lighter-1.1.2        | 56 KB     | : 100% 1.0/1 [00:00<00:00,  4.21it/s]               \n",
            "toolz-0.12.0         | 104 KB    | : 100% 1.0/1 [00:00<00:00,  2.90it/s]               \n",
            "ruamel.yaml-0.16.12  | 173 KB    | : 100% 1.0/1 [00:00<00:00,  3.69it/s]\n",
            "ruamel.yaml.clib-0.2 | 133 KB    | : 100% 1.0/1 [00:00<00:00,  4.24it/s]\n",
            "importlib_metadata-4 | 12 KB     | : 100% 1.0/1 [00:00<00:00,  4.69it/s]\n",
            "importlib-metadata-4 | 40 KB     | : 100% 1.0/1 [00:00<00:00,  4.11it/s]\n",
            "pluggy-1.0.0         | 29 KB     | : 100% 1.0/1 [00:00<00:00,  3.67it/s]\n",
            "typing_extensions-4. | 45 KB     | : 100% 1.0/1 [00:00<00:00,  3.62it/s]\n",
            "certifi-2022.12.7    | 150 KB    | : 100% 1.0/1 [00:00<00:00,  3.75it/s]\n",
            "flit-core-3.6.0      | 42 KB     | : 100% 1.0/1 [00:00<00:00,  3.83it/s]\n",
            "zipp-3.11.0          | 19 KB     | : 100% 1.0/1 [00:00<00:00,  3.91it/s]\n",
            "conda-23.1.0         | 937 KB    | : 100% 1.0/1 [00:00<00:00,  2.67it/s]\n",
            "Preparing transaction: - \b\bdone\n",
            "Verifying transaction: | \b\b/ \b\bdone\n",
            "Executing transaction: \\ \b\b| \b\b/ \b\b- \b\b\\ \b\b| \b\b/ \b\b- \b\b\\ \b\b| \b\b/ \b\bdone\n"
          ]
        }
      ]
    },
    {
      "cell_type": "code",
      "source": [
        "! lighter -r reads_trimmed.fasta -K 20 50000"
      ],
      "metadata": {
        "colab": {
          "base_uri": "https://localhost:8080/"
        },
        "id": "AK6ZvZ-bjNfO",
        "outputId": "1740cfec-a6a8-4f56-a688-42d872f63f60"
      },
      "execution_count": 149,
      "outputs": [
        {
          "output_type": "stream",
          "name": "stdout",
          "text": [
            "[2024-06-22 03:04:30] =============Start====================\n",
            "[2024-06-22 03:04:30] Scanning the input files to infer alpha(sampling rate)\n",
            "[2024-06-22 03:04:30] Average coverage is 220.799 and alpha is 0.032\n",
            "[2024-06-22 03:04:30] Bad quality threshold is \"#\"\n",
            "[2024-06-22 03:04:31] Finish sampling kmers\n",
            "[2024-06-22 03:04:31] Bloom filter A's false positive rate: 0.320316\n",
            "[2024-06-22 03:04:31] The error rate is high. Lighter adjusts -maxcor to 5 and bad quality threshold to \"$\".\n",
            "[2024-06-22 03:04:32] Finish storing trusted kmers\n",
            "[2024-06-22 03:04:37] Finish error correction\n",
            "Processed 48458 reads:\n",
            "\t1118 are error-free\n",
            "\tCorrected 182 bases(0.003845 corrections for reads with errors)\n",
            "\tTrimmed 0 reads with average trimmed bases 0.000000\n",
            "\tDiscard 0 reads\n"
          ]
        }
      ]
    },
    {
      "cell_type": "code",
      "source": [
        "tp = tn = fp = fn = 0\n",
        "inds_cor = []\n",
        "reads_cor = []\n",
        "with open('reads_trimmed.cor.fq', 'r') as file:\n",
        "    while True:\n",
        "        try:\n",
        "            x = file.readline()\n",
        "            inds_cor.append(int(x.split('_')[1]))\n",
        "            reads_cor.append(file.readline())\n",
        "            file.readline()\n",
        "            file.readline()\n",
        "        except:\n",
        "            break\n",
        "\n",
        "\n",
        "\n",
        "print(len(inds), len(reads))\n",
        "for i in range(len(inds)):\n",
        "    start, read, mistakes_ids, _ = simulation[inds_cor[i]]\n",
        "    for j, (nuc_cor, nuc_read, nuc_seq) in enumerate(zip(reads_cor[i], reads[i], sequence[start: start + len(read)])):\n",
        "        if nuc_read != nuc_cor:\n",
        "            if j in mistakes_ids and nuc_cor == nuc_seq:\n",
        "                tp += 1\n",
        "            elif j in mistakes_ids and nuc_cor != nuc_seq:\n",
        "                fn += 1\n",
        "            elif j not in mistakes_ids:\n",
        "                fp += 1\n",
        "        else:\n",
        "            if j in mistakes_ids:\n",
        "                fn += 1\n",
        "            else:\n",
        "                tn += 1\n",
        "\n",
        "print(f\"TP: {tp}\")\n",
        "print(f\"FP: {fp}\")\n",
        "print(f\"TN: {tn}\")\n",
        "print(f\"FN: {fn}\")"
      ],
      "metadata": {
        "colab": {
          "base_uri": "https://localhost:8080/"
        },
        "id": "0nRzb3jAjq_t",
        "outputId": "f1ca8a76-0943-474f-fca6-833d9df5d386"
      },
      "execution_count": 152,
      "outputs": [
        {
          "output_type": "stream",
          "name": "stdout",
          "text": [
            "48458 48458\n",
            "TP: 119\n",
            "FP: 62\n",
            "TN: 10739410\n",
            "FN: 330306\n"
          ]
        }
      ]
    },
    {
      "cell_type": "code",
      "source": [
        "import pickle\n",
        "\n",
        "with open('saved_dictionary.pkl', 'wb') as f:\n",
        "    pickle.dump(simulation, f)\n",
        ""
      ],
      "metadata": {
        "id": "wPNx2t696bkP"
      },
      "execution_count": 155,
      "outputs": []
    },
    {
      "cell_type": "markdown",
      "source": [
        "**4. Сделайте какой-то вывод** (1 балл)\n"
      ],
      "metadata": {
        "id": "E8jOHBW72ojf"
      }
    }
  ]
}